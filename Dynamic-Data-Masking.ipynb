{
    "metadata": {
        "kernelspec": {
            "name": "SQL",
            "display_name": "SQL",
            "language": "sql"
        },
        "language_info": {
            "name": "sql",
            "version": ""
        }
    },
    "nbformat_minor": 2,
    "nbformat": 4,
    "cells": [
        {
            "cell_type": "markdown",
            "source": [
                "# Dynamic Data Masking"
            ],
            "metadata": {
                "azdata_cell_guid": "53a9c190-255e-4898-87ca-dc94309ab8fa"
            }
        },
        {
            "cell_type": "markdown",
            "source": [
                "1. Let us create a new database named Blog"
            ],
            "metadata": {
                "azdata_cell_guid": "3eafa927-1867-4a76-b916-2048ce834519"
            }
        },
        {
            "cell_type": "code",
            "source": [
                "If(db_id(N'Blog') IS NULL)\r\n",
                "BEGIN\r\n",
                "    CREATE DATABASE Blog\r\n",
                "END"
            ],
            "metadata": {
                "azdata_cell_guid": "9a8c3c91-a7b7-49b5-b548-3aa92f0ee3d5"
            },
            "outputs": [],
            "execution_count": 1
        },
        {
            "cell_type": "markdown",
            "source": [
                "2. Create a new table named Membership with the following masking functions, default, partial and email."
            ],
            "metadata": {
                "azdata_cell_guid": "cf4cbbe5-7c04-4c2b-b8c6-d10d668fdcb6"
            }
        },
        {
            "cell_type": "code",
            "source": [
                "CREATE TABLE Membership  \r\n",
                "  (MemberID int IDENTITY PRIMARY KEY,  \r\n",
                "   FirstName varchar(100) MASKED WITH (FUNCTION = 'partial(1,\"XXXXXXX\",0)') NULL,  \r\n",
                "   LastName varchar(100) NOT NULL,  \r\n",
                "   Phone varchar(12) MASKED WITH (FUNCTION = 'default()') NULL,  \r\n",
                "   Email varchar(100) MASKED WITH (FUNCTION = 'email()') NULL);  \r\n",
                "  \r\n",
                "INSERT Membership (FirstName, LastName, Phone, Email) VALUES   \r\n",
                "('Roberto', 'Tamburello', '555.123.4567', 'RTamburello@contoso.com'),  \r\n",
                "('Janice', 'Galvin', '555.123.4568', 'JGalvin@contoso.com.co'),  \r\n",
                "('Zheng', 'Mu', '555.123.4569', 'ZMu@contoso.net');  \r\n",
                "SELECT * FROM Membership; "
            ],
            "metadata": {
                "azdata_cell_guid": "3fce7939-8f3c-437c-8a77-fa0b6f9098e2"
            },
            "outputs": [],
            "execution_count": 2
        },
        {
            "cell_type": "markdown",
            "source": [
                "3. Let us execute a query as a different user to see how Dynamic Data Masking works."
            ],
            "metadata": {
                "azdata_cell_guid": "054b5f4e-f979-401d-8e57-c5c2fce6f7ed"
            }
        },
        {
            "cell_type": "code",
            "source": [
                "CREATE USER TestUser WITHOUT LOGIN;  \r\n",
                "GRANT SELECT ON Membership TO TestUser;  \r\n",
                "  \r\n",
                "EXECUTE AS USER = 'TestUser';  \r\n",
                "SELECT * FROM Membership;  \r\n",
                "REVERT;  "
            ],
            "metadata": {
                "azdata_cell_guid": "e894a273-64cf-4257-8ae2-7ea51110b384"
            },
            "outputs": [],
            "execution_count": 3
        }
    ]
}